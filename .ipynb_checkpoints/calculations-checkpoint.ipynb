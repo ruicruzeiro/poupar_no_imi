{
 "cells": [
  {
   "cell_type": "code",
   "execution_count": 115,
   "id": "b029a837",
   "metadata": {},
   "outputs": [],
   "source": [
    "from PyPDF2 import PdfReader\n",
    "import os\n",
    "import regex\n",
    "import datetime as dt\n",
    "from dateutil.relativedelta import relativedelta"
   ]
  },
  {
   "cell_type": "code",
   "execution_count": 2,
   "id": "3bffd6ee",
   "metadata": {},
   "outputs": [],
   "source": [
    "# abrir PDF\n",
    "\n",
    "file = 'test_pdfs/CPU.pdf'\n",
    "filepath = os.path.abspath(os.path.join(os.getcwd(), file))"
   ]
  },
  {
   "cell_type": "code",
   "execution_count": 3,
   "id": "2524925e",
   "metadata": {
    "scrolled": true
   },
   "outputs": [
    {
     "data": {
      "text/plain": [
       "'060318 - SANTO ANTONIO DOS OLIVAIS - U - 12626 - A \\n \\nCADERNETA PREDIAL URBANA \\nSERVIÇO DE FINANÇAS: 0728 - COIMBRA-1. \\n \\nIDENTIFICAÇÃO DO PRÉDIO \\nDISTRITO: 06 - COIMBRA CONCELHO: 03 - COIMBRA FREGUESIA: 18 - SANTO ANTONIO DOS OLIVAIS  \\nARTIGO MATRICIAL: 12626 NIP:  \\nDescrito na C.R.P. de : COIMBRA sob o registo nº: 3662 \\nTEVE ORIGEM NOS ARTIGOS \\nDISTRITO: 06 - COIMBRA CONCELHO: 03 - COIMBRA FREGUESIA: 18 - SANTO ANTONIO DOS OLIVAIS \\nTipo: URBANO  \\nArtigo: 9396 \\nLOCALIZAÇÃO DO PRÉDIO \\nAv./Rua/Praça: Rua Padre António Nogueira, Urb. Quinta da Lomba Lote: 35 Lugar: Chão do Bispo Código \\nPostal: 3030-416 COIMBRA \\nCONFRONTAÇÕES \\nNorte: . Sul: . Nascente: . Poente: . \\nDESCRIÇÃO DO PRÉDIO \\nTipo de Prédio: Prédio em Regime de Prop. Horiz.  \\nNº de pisos do artigo: 5 \\nÁREAS (em  m²) \\nÁrea total do terreno: 555,0000 m² Área de implantação do edifício: 555,0000 m² Área bruta privativa total: \\n83,0000 m² Área de terreno integrante das fracções: 0,0000 m² \\nFRACÇÃO AUTÓNOMA:  A \\n \\nLOCALIZAÇÃO DA FRACÇÃO \\nAv./Rua/Praça: Rua Padre António Nogueira, Urb. Quinta da Lomba Lote: 35 Lugar: Chão do Bispo Código \\nPostal: 3030-416 COIMBRA  \\nAndar/Divisão: R/C D \\nELEMENTOS DA FRACÇÃO \\nAfectação: Habitação Tipologia/Divisões: T2 Permilagem: 106,2000 Nº de pisos da fracção: 1 \\nÁREAS (em  m²) \\nÁrea do terreno integrante: 0,0000 m² Área bruta privativa: 83,0000 m² Área bruta dependente: 39,0000 m² \\nDADOS DE AVALIAÇÃO \\nAno de inscrição na matriz: 2007 Valor patrimonial actual (CIMI): €127.530,00 Determinado no ano: 2020  \\nTipo de coeficiente de localização: Habitação Coordenada X: 177.428,00 Coordenada Y: 359.344,00 Mod 1 \\ndo IMI nº: 7576239 Entregue em : 2020/11/16 Ficha de avaliação nº: 11285492 Avaliada em : 2020/11/27 \\nPágina 1 de \\n2 060318 - SANTO ANTONIO DOS OLIVAIS - U - 12626 - A \\n \\nCADERNETA PREDIAL URBANA \\nSERVIÇO DE FINANÇAS: 0728 - COIMBRA-1. \\n \\nVt* \\n= \\nVc \\nx \\nA \\nx \\nCa \\nx \\nCl \\nx \\nCq \\nx \\nCv \\n127.530,00 \\n= \\n615,00 \\nx \\n94,7000 \\nx \\n1,00 \\nx \\n2,30 \\nx \\n1,120 \\nx \\n0,85 \\nVt = valor patrimonial tributário, Vc = valor base dos prédios edificados, A = área bruta de construção mais a área excedente à área de implantação, Ca = coeficiente de \\nafectação, Cl = coeficiente de localização, Cq = coeficiente de qualidade e conforto, Cv = coeficiente de vetustez, sendo A = (Aa + Ab) x Caj + Ac + Ad, em que Aa \\nrepresenta a área bruta privativa, Ab representa as áreas brutas dependentes, Ac representa a área do terreno livre até ao limite de duas vezes a área de implantação, Ad \\nrepresenta a área do terreno livre que excede o limite de duas vezes a área de implantação, (Aa + Ab) x Caj = 1,00 x (Aa + Ab - 0,0000). \\nTratando-se de terrenos para construção, A = área bruta de construção integrada de Ab. \\n* Valor arredondado, nos termos do nº2 do Art.º 38º do CIMI. \\nTITULARES \\nIdentificação fiscal: 230779115 Nome: RUI DAMAS CRUZEIRO  \\nMorada: PC FAUSTO CORREIA Nº 23 6º G CELAS, COIMBRA, 3000-253 COIMBRA  \\n \\nTipo de titular: Propriedade plena Parte: 1/1 Documento: OUTRO Entidade: P. ADM. 1373/10 \\nEmitido via internet em 2022-09-28 \\n \\n \\nO Chefe de Finanças \\n \\n \\n \\n(Antonio Amadeu dos Santos Peralta) \\n \\n \\nELEMENTOS PARA A VALIDAÇÃO DO DOCUMENTO \\nNIF EMISSOR: 230779115  \\nCÓDIGO DE VALIDAÇÃO: \\nL6XZF1JHZ1Z3 \\n \\nPara validar este comprovativo aceda ao site em \\nwww.portaldasfinancas.gov.pt, opção Serviços>Outros \\nServiços>Validação de Documento e introduza o nº de \\ncontribuinte e código de validação indicados ou faça a \\nleitura do código QR fornecido. Verifique que o documento \\nobtido corresponde a este comprovativo. \\nPágina 2 de \\n2'"
      ]
     },
     "execution_count": 3,
     "metadata": {},
     "output_type": "execute_result"
    }
   ],
   "source": [
    "# extrair conteúdo do PDF com PyPDF2\n",
    "\n",
    "reader = PdfReader(filepath)\n",
    "\n",
    "text = [reader.pages[page].extract_text() for page in range(len(reader.pages))]\n",
    "text = ' '.join(text)\n",
    "\n",
    "text"
   ]
  },
  {
   "cell_type": "code",
   "execution_count": 41,
   "id": "1d6f4091",
   "metadata": {},
   "outputs": [
    {
     "data": {
      "text/plain": [
       "'060318 - SANTO ANTONIO DOS OLIVAIS - U - 12626 - A  CADERNETA PREDIAL URBANA SERVIÇO DE FINANÇAS: 0728 - COIMBRA-1.  IDENTIFICAÇÃO DO PRÉDIO DISTRITO: 06 - COIMBRA CONCELHO: 03 - COIMBRA FREGUESIA: 18 - SANTO ANTONIO DOS OLIVAIS  ARTIGO MATRICIAL: 12626 NIP:  Descrito na C.R.P. de : COIMBRA sob o registo nº: 3662 TEVE ORIGEM NOS ARTIGOS DISTRITO: 06 - COIMBRA CONCELHO: 03 - COIMBRA FREGUESIA: 18 - SANTO ANTONIO DOS OLIVAIS Tipo: URBANO  Artigo: 9396 LOCALIZAÇÃO DO PRÉDIO Av./Rua/Praça: Rua Padre António Nogueira, Urb. Quinta da Lomba Lote: 35 Lugar: Chão do Bispo Código Postal: 3030-416 COIMBRA CONFRONTAÇÕES Norte: . Sul: . Nascente: . Poente: . DESCRIÇÃO DO PRÉDIO Tipo de Prédio: Prédio em Regime de Prop. Horiz.  Nº de pisos do artigo: 5 ÁREAS (em  m²) Área total do terreno: 555,0000 m² Área de implantação do edifício: 555,0000 m² Área bruta privativa total: 83,0000 m² Área de terreno integrante das fracções: 0,0000 m² FRACÇÃO AUTÓNOMA:  A  LOCALIZAÇÃO DA FRACÇÃO Av./Rua/Praça: Rua Padre António Nogueira, Urb. Quinta da Lomba Lote: 35 Lugar: Chão do Bispo Código Postal: 3030-416 COIMBRA  Andar/Divisão: R/C D ELEMENTOS DA FRACÇÃO Afectação: Habitação Tipologia/Divisões: T2 Permilagem: 106,2000 Nº de pisos da fracção: 1 ÁREAS (em  m²) Área do terreno integrante: 0,0000 m² Área bruta privativa: 83,0000 m² Área bruta dependente: 39,0000 m² DADOS DE AVALIAÇÃO Ano de inscrição na matriz: 2007 Valor patrimonial actual (CIMI): €127.530,00 Determinado no ano: 2020  Tipo de coeficiente de localização: Habitação Coordenada X: 177.428,00 Coordenada Y: 359.344,00 Mod 1 do IMI nº: 7576239 Entregue em : 2020/11/16 Ficha de avaliação nº: 11285492 Avaliada em : 2020/11/27 Página 1 de 2 060318 - SANTO ANTONIO DOS OLIVAIS - U - 12626 - A  CADERNETA PREDIAL URBANA SERVIÇO DE FINANÇAS: 0728 - COIMBRA-1.  Vt* = Vc x A x Ca x Cl x Cq x Cv 127.530,00 = 615,00 x 94,7000 x 1,00 x 2,30 x 1,120 x 0,85 Vt = valor patrimonial tributário, Vc = valor base dos prédios edificados, A = área bruta de construção mais a área excedente à área de implantação, Ca = coeficiente de afectação, Cl = coeficiente de localização, Cq = coeficiente de qualidade e conforto, Cv = coeficiente de vetustez, sendo A = (Aa + Ab) x Caj + Ac + Ad, em que Aa representa a área bruta privativa, Ab representa as áreas brutas dependentes, Ac representa a área do terreno livre até ao limite de duas vezes a área de implantação, Ad representa a área do terreno livre que excede o limite de duas vezes a área de implantação, (Aa + Ab) x Caj = 1,00 x (Aa + Ab - 0,0000). Tratando-se de terrenos para construção, A = área bruta de construção integrada de Ab. * Valor arredondado, nos termos do nº2 do Art.º 38º do CIMI. TITULARES Identificação fiscal: 230779115 Nome: RUI DAMAS CRUZEIRO  Morada: PC FAUSTO CORREIA Nº 23 6º G CELAS, COIMBRA, 3000-253 COIMBRA   Tipo de titular: Propriedade plena Parte: 1/1 Documento: OUTRO Entidade: P. ADM. 1373/10 Emitido via internet em 2022-09-28   O Chefe de Finanças    (Antonio Amadeu dos Santos Peralta)   ELEMENTOS PARA A VALIDAÇÃO DO DOCUMENTO NIF EMISSOR: 230779115  CÓDIGO DE VALIDAÇÃO: L6XZF1JHZ1Z3  Para validar este comprovativo aceda ao site em www.portaldasfinancas.gov.pt, opção Serviços>Outros Serviços>Validação de Documento e introduza o nº de contribuinte e código de validação indicados ou faça a leitura do código QR fornecido. Verifique que o documento obtido corresponde a este comprovativo. Página 2 de 2'"
      ]
     },
     "execution_count": 41,
     "metadata": {},
     "output_type": "execute_result"
    }
   ],
   "source": [
    "text = text.replace('\\n','')\n",
    "text"
   ]
  },
  {
   "cell_type": "code",
   "execution_count": 105,
   "id": "717a89b8",
   "metadata": {},
   "outputs": [],
   "source": [
    "### extrair informação relevante da CPU ###\n",
    "\n",
    "ano_inscricao = regex.findall('(?<=Ano de inscrição na matriz: )(.*)(?= Valor patrimonial actual)', text)\n",
    "ano_inscricao = int(ano_inscricao[0])\n",
    "\n",
    "data_avaliacao = regex.findall('(?<=Avaliada em : )(.*)', text)\n",
    "data_avaliacao = data_avaliacao[0].split()[0]\n",
    "data_avaliacao = dt.datetime.strptime(data_avaliacao, '%Y/%m/%d')\n",
    "data_avaliacao = data_avaliacao.date()\n",
    "\n",
    "ext_calc = regex.findall('(?<=Vc x A x Ca x Cl x Cq x Cv )(.*)(?= Vt = valor patrimonial tributário)', text)\n",
    "ext_calc = ext_calc[0].split()"
   ]
  },
  {
   "cell_type": "code",
   "execution_count": 106,
   "id": "19fc8a9c",
   "metadata": {},
   "outputs": [
    {
     "data": {
      "text/plain": [
       "datetime.date(2020, 11, 27)"
      ]
     },
     "execution_count": 106,
     "metadata": {},
     "output_type": "execute_result"
    }
   ],
   "source": [
    "\n",
    "data_avaliacao"
   ]
  },
  {
   "cell_type": "code",
   "execution_count": 72,
   "id": "2ad3ed64",
   "metadata": {},
   "outputs": [],
   "source": [
    "### extrair o VPT existente ###\n",
    "\n",
    "VPT_existente = float(ext_calc[0].replace('.', '').replace(',', '.'))"
   ]
  },
  {
   "cell_type": "code",
   "execution_count": 95,
   "id": "739b123a",
   "metadata": {},
   "outputs": [],
   "source": [
    "### calcular o VPT em caso de reavaliação ###\n",
    "\n",
    "# valor de construção em 2022 (última actualização deste código)\n",
    "\n",
    "Vc = 640.00\n",
    "\n",
    "# extrair coeficientes da CPU\n",
    "\n",
    "A = float(ext_calc[4].replace('.', '').replace(',', '.'))\n",
    "Ca = float(ext_calc[6].replace('.', '').replace(',', '.'))\n",
    "Cl = float(ext_calc[8].replace('.', '').replace(',', '.'))\n",
    "Cq = float(ext_calc[10].replace('.', '').replace(',', '.'))\n",
    "\n",
    "# calcular o coeficiente de vetustez\n",
    "\n",
    "idade = dt.date.today().year - ano_inscricao\n",
    "\n",
    "if idade < 2:\n",
    "    Cv = 1.0\n",
    "elif idade >= 2 and idade <= 8:\n",
    "    Cv = 0.9\n",
    "elif idade >= 9 and idade <= 15:\n",
    "    Cv = 0.85\n",
    "elif idade >= 16 and idade <= 25:\n",
    "    Cv = 0.8\n",
    "elif idade >= 26 and idade <= 40:\n",
    "    Cv = 0.75\n",
    "elif idade >= 41 and idade <= 50:\n",
    "    Cv = 0.65\n",
    "elif idade >= 51 and idade <= 60:\n",
    "    Cv = 0.55\n",
    "elif idade > 60:\n",
    "    Cv = 0.4\n",
    "\n",
    "# calcular o novo VPT\n",
    "\n",
    "VPT_novo = Vc * A * Ca * Cl * Cq * Cv"
   ]
  },
  {
   "cell_type": "code",
   "execution_count": 131,
   "id": "2ef59efe",
   "metadata": {},
   "outputs": [
    {
     "name": "stdout",
     "output_type": "stream",
     "text": [
      "Não é aconselhável pedir já uma reavaliação.\n",
      "Uma reavaliação pedida neste momento irá fazer subir o Valor Patrimonial do imóvel para 132707.28 €. Esta situação poderá dever-se à subida de alguns dos parâmetros de cálculo pela Autoridade Tributária.\n"
     ]
    }
   ],
   "source": [
    "### analisar resultados ###\n",
    "\n",
    "data_avaliacao = data_avaliacao - relativedelta(years=3)\n",
    "\n",
    "if data_avaliacao + relativedelta(years=3) > dt.date.today():\n",
    "    print('Ainda não é possível pedir uma reavaliação.')\n",
    "    print('A última reavaliação deste imóvel foi feita em ' + str(data_avaliacao) + '. A Autoridade Tributária impõe um período mínimo de 3 anos entre reavaliações. Para saber se pode poupar no IMI, volte a esta ferramenta no fim desse prazo, uma vez que vários parâmetros de cálculo podem ser alterados pela Autoridade Tributária até lá.')\n",
    "elif VPT_novo > VPT_existente:\n",
    "    print('Não é aconselhável pedir já uma reavaliação.')\n",
    "    print('Uma reavaliação pedida neste momento irá fazer subir o Valor Patrimonial do imóvel para ' + str(round(VPT_novo,2)) + ' €. Esta situação poderá dever-se à subida de alguns dos parâmetros de cálculo pela Autoridade Tributária.')\n",
    "elif VPT_novo <= VPT_existente:\n"
   ]
  },
  {
   "cell_type": "code",
   "execution_count": 117,
   "id": "6e2b036c",
   "metadata": {},
   "outputs": [
    {
     "data": {
      "text/plain": [
       "datetime.date(2022, 10, 5)"
      ]
     },
     "execution_count": 117,
     "metadata": {},
     "output_type": "execute_result"
    }
   ],
   "source": [
    "dt.date.today()"
   ]
  }
 ],
 "metadata": {
  "kernelspec": {
   "display_name": "Python 3 (ipykernel)",
   "language": "python",
   "name": "python3"
  },
  "language_info": {
   "codemirror_mode": {
    "name": "ipython",
    "version": 3
   },
   "file_extension": ".py",
   "mimetype": "text/x-python",
   "name": "python",
   "nbconvert_exporter": "python",
   "pygments_lexer": "ipython3",
   "version": "3.8.12"
  },
  "toc": {
   "base_numbering": 1,
   "nav_menu": {},
   "number_sections": true,
   "sideBar": true,
   "skip_h1_title": false,
   "title_cell": "Table of Contents",
   "title_sidebar": "Contents",
   "toc_cell": false,
   "toc_position": {},
   "toc_section_display": true,
   "toc_window_display": false
  }
 },
 "nbformat": 4,
 "nbformat_minor": 5
}
