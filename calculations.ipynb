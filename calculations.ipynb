{
 "cells": [
  {
   "cell_type": "code",
   "execution_count": 37,
   "id": "b029a837",
   "metadata": {},
   "outputs": [],
   "source": [
    "from PyPDF2 import PdfReader\n",
    "import os\n",
    "import re"
   ]
  },
  {
   "cell_type": "code",
   "execution_count": 36,
   "id": "3bffd6ee",
   "metadata": {},
   "outputs": [
    {
     "data": {
      "text/plain": [
       "'/Users/ruicruzeiro/code/area_extractor/area_extractor/test_pdfs/CPU.pdf'"
      ]
     },
     "execution_count": 36,
     "metadata": {},
     "output_type": "execute_result"
    }
   ],
   "source": [
    "# get file\n",
    "\n",
    "file = 'test_pdfs/CPU.pdf'\n",
    "filepath = os.path.abspath(os.path.join(os.getcwd(), os.pardir, file))"
   ]
  },
  {
   "cell_type": "code",
   "execution_count": 62,
   "id": "2524925e",
   "metadata": {},
   "outputs": [
    {
     "data": {
      "text/plain": [
       "'060318 - SANTO ANTONIO DOS OLIVAIS - U - 12626 - A \\n \\nCADERNETA PREDIAL URBANA \\nSERVIÇO DE FINANÇAS: 0728 - COIMBRA-1. \\n \\nIDENTIFICAÇÃO DO PRÉDIO \\nDISTRITO: 06 - COIMBRA CONCELHO: 03 - COIMBRA FREGUESIA: 18 - SANTO ANTONIO DOS OLIVAIS  \\nARTIGO MATRICIAL: 12626 NIP:  \\nDescrito na C.R.P. de : COIMBRA sob o registo nº: 3662 \\nTEVE ORIGEM NOS ARTIGOS \\nDISTRITO: 06 - COIMBRA CONCELHO: 03 - COIMBRA FREGUESIA: 18 - SANTO ANTONIO DOS OLIVAIS \\nTipo: URBANO  \\nArtigo: 9396 \\nLOCALIZAÇÃO DO PRÉDIO \\nAv./Rua/Praça: Rua Padre António Nogueira, Urb. Quinta da Lomba Lote: 35 Lugar: Chão do Bispo Código \\nPostal: 3030-416 COIMBRA \\nCONFRONTAÇÕES \\nNorte: . Sul: . Nascente: . Poente: . \\nDESCRIÇÃO DO PRÉDIO \\nTipo de Prédio: Prédio em Regime de Prop. Horiz.  \\nNº de pisos do artigo: 5 \\nÁREAS (em  m²) \\nÁrea total do terreno: 555,0000 m² Área de implantação do edifício: 555,0000 m² Área bruta privativa total: \\n83,0000 m² Área de terreno integrante das fracções: 0,0000 m² \\nFRACÇÃO AUTÓNOMA:  A \\n \\nLOCALIZAÇÃO DA FRACÇÃO \\nAv./Rua/Praça: Rua Padre António Nogueira, Urb. Quinta da Lomba Lote: 35 Lugar: Chão do Bispo Código \\nPostal: 3030-416 COIMBRA  \\nAndar/Divisão: R/C D \\nELEMENTOS DA FRACÇÃO \\nAfectação: Habitação Tipologia/Divisões: T2 Permilagem: 106,2000 Nº de pisos da fracção: 1 \\nÁREAS (em  m²) \\nÁrea do terreno integrante: 0,0000 m² Área bruta privativa: 83,0000 m² Área bruta dependente: 39,0000 m² \\nDADOS DE AVALIAÇÃO \\nAno de inscrição na matriz: 2007 Valor patrimonial actual (CIMI): €127.530,00 Determinado no ano: 2020  \\nTipo de coeficiente de localização: Habitação Coordenada X: 177.428,00 Coordenada Y: 359.344,00 Mod 1 \\ndo IMI nº: 7576239 Entregue em : 2020/11/16 Ficha de avaliação nº: 11285492 Avaliada em : 2020/11/27 \\nPágina 1 de \\n2'"
      ]
     },
     "execution_count": 62,
     "metadata": {},
     "output_type": "execute_result"
    }
   ],
   "source": [
    "# extract PDF contents with PyPDF2 package\n",
    "\n",
    "reader = PdfReader(filepath)\n",
    "number_of_pages = len(reader.pages)\n",
    "page = reader.pages[0]\n",
    "text = page.extract_text()\n",
    "text"
   ]
  },
  {
   "cell_type": "code",
   "execution_count": 68,
   "id": "717a89b8",
   "metadata": {},
   "outputs": [],
   "source": [
    "### extract values ###\n",
    "\n",
    "# find relevant areas inside text (outputs are lists)\n",
    "\n",
    "AT = re.findall('(?<=Área do terreno integrante: )(.*)(?= m² Área bruta privativa:)', text)\n",
    "ABP = re.findall('(?<=Área bruta privativa: )(.*)(?= m² Área bruta dependente:)', text)\n",
    "ABD = re.findall('(?<=Área bruta dependente: )(.*)(?= m²)', text)\n",
    "\n",
    "# get workable values out of lists\n",
    "\n",
    "AT = float(AT[0].replace(',', '.'))\n",
    "ABP = float(ABP[0].replace(',', '.'))\n",
    "ABD = float(ABD[0].replace(',', '.'))"
   ]
  },
  {
   "cell_type": "code",
   "execution_count": 75,
   "id": "1eca6352",
   "metadata": {},
   "outputs": [
    {
     "name": "stdout",
     "output_type": "stream",
     "text": [
      "Área de Terreno: 0.0 m²\n",
      "Área Bruta Privativa: 83.0 m²\n",
      "Área Bruta Dependente: 39.0 m²\n"
     ]
    }
   ],
   "source": [
    "print('Área de Terreno:', AT, \"m²\")\n",
    "print('Área Bruta Privativa:', ABP, \"m²\")\n",
    "print('Área Bruta Dependente:', ABD, \"m²\")"
   ]
  }
 ],
 "metadata": {
  "kernelspec": {
   "display_name": "Python 3 (ipykernel)",
   "language": "python",
   "name": "python3"
  },
  "language_info": {
   "codemirror_mode": {
    "name": "ipython",
    "version": 3
   },
   "file_extension": ".py",
   "mimetype": "text/x-python",
   "name": "python",
   "nbconvert_exporter": "python",
   "pygments_lexer": "ipython3",
   "version": "3.8.12"
  },
  "toc": {
   "base_numbering": 1,
   "nav_menu": {},
   "number_sections": true,
   "sideBar": true,
   "skip_h1_title": false,
   "title_cell": "Table of Contents",
   "title_sidebar": "Contents",
   "toc_cell": false,
   "toc_position": {},
   "toc_section_display": true,
   "toc_window_display": false
  }
 },
 "nbformat": 4,
 "nbformat_minor": 5
}
